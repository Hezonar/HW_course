{
 "cells": [
  {
   "cell_type": "code",
   "execution_count": 2,
   "metadata": {
    "scrolled": true
   },
   "outputs": [
    {
     "name": "stdout",
     "output_type": "stream",
     "text": [
      "2.5.0\n"
     ]
    }
   ],
   "source": [
    "import keras\n",
    "import pandas as pd\n",
    "\n",
    "import numpy as np\n",
    "import matplotlib.pyplot as plt\n",
    "\n",
    "print(keras.__version__)"
   ]
  },
  {
   "cell_type": "markdown",
   "metadata": {},
   "source": [
    "Data - [Clickbait titles](https://www.kaggle.com/shivamb/5minute-crafts-video-views-dataset)"
   ]
  },
  {
   "cell_type": "code",
   "execution_count": 3,
   "metadata": {},
   "outputs": [],
   "source": [
    "data = pd.read_csv(\"5-Minute Crafts.csv\")"
   ]
  },
  {
   "cell_type": "code",
   "execution_count": 5,
   "metadata": {},
   "outputs": [
    {
     "data": {
      "text/html": [
       "<div>\n",
       "<style scoped>\n",
       "    .dataframe tbody tr th:only-of-type {\n",
       "        vertical-align: middle;\n",
       "    }\n",
       "\n",
       "    .dataframe tbody tr th {\n",
       "        vertical-align: top;\n",
       "    }\n",
       "\n",
       "    .dataframe thead th {\n",
       "        text-align: right;\n",
       "    }\n",
       "</style>\n",
       "<table border=\"1\" class=\"dataframe\">\n",
       "  <thead>\n",
       "    <tr style=\"text-align: right;\">\n",
       "      <th></th>\n",
       "      <th>video_id</th>\n",
       "      <th>title</th>\n",
       "      <th>active_since_days</th>\n",
       "      <th>duration_seconds</th>\n",
       "      <th>total_views</th>\n",
       "      <th>num_chars</th>\n",
       "      <th>num_words</th>\n",
       "      <th>num_punctuation</th>\n",
       "      <th>num_words_uppercase</th>\n",
       "      <th>num_words_lowercase</th>\n",
       "      <th>num_stopwords</th>\n",
       "      <th>avg_word_len</th>\n",
       "      <th>contain_digits</th>\n",
       "      <th>startswith_digits</th>\n",
       "      <th>title_sentiment</th>\n",
       "    </tr>\n",
       "  </thead>\n",
       "  <tbody>\n",
       "    <tr>\n",
       "      <th>0</th>\n",
       "      <td>v=lCePSP4lb-k</td>\n",
       "      <td>Wow! Let's go live! Epic decorations and DIYS</td>\n",
       "      <td>1</td>\n",
       "      <td>558</td>\n",
       "      <td>10825</td>\n",
       "      <td>45</td>\n",
       "      <td>8</td>\n",
       "      <td>3</td>\n",
       "      <td>1</td>\n",
       "      <td>4</td>\n",
       "      <td>1</td>\n",
       "      <td>5.625000</td>\n",
       "      <td>0</td>\n",
       "      <td>0</td>\n",
       "      <td>0.131818</td>\n",
       "    </tr>\n",
       "    <tr>\n",
       "      <th>1</th>\n",
       "      <td>v=G7O9iWWOtTY</td>\n",
       "      <td>EXTREME ROOM TRANSFORMATION || Cool Design Ide...</td>\n",
       "      <td>1</td>\n",
       "      <td>1020</td>\n",
       "      <td>184374</td>\n",
       "      <td>63</td>\n",
       "      <td>10</td>\n",
       "      <td>2</td>\n",
       "      <td>3</td>\n",
       "      <td>0</td>\n",
       "      <td>2</td>\n",
       "      <td>6.300000</td>\n",
       "      <td>0</td>\n",
       "      <td>0</td>\n",
       "      <td>0.112500</td>\n",
       "    </tr>\n",
       "    <tr>\n",
       "      <th>2</th>\n",
       "      <td>v=cd0u5IFxBdo</td>\n",
       "      <td>LATE SUMMER HACKS TO SAVE YOUR DAY</td>\n",
       "      <td>2</td>\n",
       "      <td>629</td>\n",
       "      <td>478170</td>\n",
       "      <td>34</td>\n",
       "      <td>7</td>\n",
       "      <td>0</td>\n",
       "      <td>7</td>\n",
       "      <td>0</td>\n",
       "      <td>2</td>\n",
       "      <td>4.857143</td>\n",
       "      <td>0</td>\n",
       "      <td>0</td>\n",
       "      <td>-0.300000</td>\n",
       "    </tr>\n",
       "    <tr>\n",
       "      <th>3</th>\n",
       "      <td>v=lWSXHFPqBfo</td>\n",
       "      <td>EVERY SMART PARENT KNOWS THESE USEFUL HACKS #s...</td>\n",
       "      <td>2</td>\n",
       "      <td>41</td>\n",
       "      <td>197359</td>\n",
       "      <td>51</td>\n",
       "      <td>8</td>\n",
       "      <td>1</td>\n",
       "      <td>7</td>\n",
       "      <td>1</td>\n",
       "      <td>1</td>\n",
       "      <td>6.375000</td>\n",
       "      <td>0</td>\n",
       "      <td>0</td>\n",
       "      <td>0.257143</td>\n",
       "    </tr>\n",
       "    <tr>\n",
       "      <th>4</th>\n",
       "      <td>v=qqPFeyd84Lg</td>\n",
       "      <td>SMART HACKS TO SAVE YOUR WEDDING DAY🤵‍👰‍💍🕊️</td>\n",
       "      <td>3</td>\n",
       "      <td>784</td>\n",
       "      <td>162025</td>\n",
       "      <td>43</td>\n",
       "      <td>7</td>\n",
       "      <td>0</td>\n",
       "      <td>7</td>\n",
       "      <td>0</td>\n",
       "      <td>2</td>\n",
       "      <td>6.142857</td>\n",
       "      <td>0</td>\n",
       "      <td>0</td>\n",
       "      <td>0.214286</td>\n",
       "    </tr>\n",
       "  </tbody>\n",
       "</table>\n",
       "</div>"
      ],
      "text/plain": [
       "        video_id                                              title  \\\n",
       "0  v=lCePSP4lb-k      Wow! Let's go live! Epic decorations and DIYS   \n",
       "1  v=G7O9iWWOtTY  EXTREME ROOM TRANSFORMATION || Cool Design Ide...   \n",
       "2  v=cd0u5IFxBdo                 LATE SUMMER HACKS TO SAVE YOUR DAY   \n",
       "3  v=lWSXHFPqBfo  EVERY SMART PARENT KNOWS THESE USEFUL HACKS #s...   \n",
       "4  v=qqPFeyd84Lg        SMART HACKS TO SAVE YOUR WEDDING DAY🤵‍👰‍💍🕊️   \n",
       "\n",
       "   active_since_days  duration_seconds  total_views  num_chars  num_words  \\\n",
       "0                  1               558        10825         45          8   \n",
       "1                  1              1020       184374         63         10   \n",
       "2                  2               629       478170         34          7   \n",
       "3                  2                41       197359         51          8   \n",
       "4                  3               784       162025         43          7   \n",
       "\n",
       "   num_punctuation  num_words_uppercase  num_words_lowercase  num_stopwords  \\\n",
       "0                3                    1                    4              1   \n",
       "1                2                    3                    0              2   \n",
       "2                0                    7                    0              2   \n",
       "3                1                    7                    1              1   \n",
       "4                0                    7                    0              2   \n",
       "\n",
       "   avg_word_len  contain_digits  startswith_digits  title_sentiment  \n",
       "0      5.625000               0                  0         0.131818  \n",
       "1      6.300000               0                  0         0.112500  \n",
       "2      4.857143               0                  0        -0.300000  \n",
       "3      6.375000               0                  0         0.257143  \n",
       "4      6.142857               0                  0         0.214286  "
      ]
     },
     "execution_count": 5,
     "metadata": {},
     "output_type": "execute_result"
    }
   ],
   "source": [
    "data.head()"
   ]
  },
  {
   "cell_type": "code",
   "execution_count": 7,
   "metadata": {},
   "outputs": [],
   "source": [
    "# total views - target \n",
    "# video_id, title - no info (can be deleted)\n",
    "# other columns - features"
   ]
  },
  {
   "cell_type": "markdown",
   "metadata": {},
   "source": [
    "Нам необходимо определить, какой из признаков влияет сильнее всего. Для этого сделаем нормализацию данных."
   ]
  },
  {
   "cell_type": "markdown",
   "metadata": {},
   "source": [
    "1) Убрать из таблицы столбцы video_id, title (они не будут влиять на результат)."
   ]
  },
  {
   "cell_type": "code",
   "execution_count": null,
   "metadata": {},
   "outputs": [],
   "source": []
  },
  {
   "cell_type": "markdown",
   "metadata": {},
   "source": [
    "2) Создать отдельную переменную Y, состоящий из целевой переменной total_views в нашей матрице. Удалить total_views из нашей матрицы."
   ]
  },
  {
   "cell_type": "code",
   "execution_count": null,
   "metadata": {},
   "outputs": [],
   "source": []
  },
  {
   "cell_type": "markdown",
   "metadata": {},
   "source": [
    "3) Импортируйте from sklearn.preprocessing import normalize\n",
    "   Создайте матрицу признаков X, вызвав normalize и передав туда в качестве параметров (data, axis=1, norm='max')"
   ]
  },
  {
   "cell_type": "code",
   "execution_count": null,
   "metadata": {},
   "outputs": [],
   "source": []
  },
  {
   "cell_type": "markdown",
   "metadata": {},
   "source": [
    "## Часть 2. Подготовка модели."
   ]
  },
  {
   "cell_type": "markdown",
   "metadata": {},
   "source": [
    "1) Разделите выборку на train и test (70/30). Также есть в sklearn train_test_split"
   ]
  },
  {
   "cell_type": "code",
   "execution_count": null,
   "metadata": {},
   "outputs": [],
   "source": []
  },
  {
   "cell_type": "markdown",
   "metadata": {},
   "source": [
    "2) Обучите модель с помощью SGD на выборке train"
   ]
  },
  {
   "cell_type": "code",
   "execution_count": null,
   "metadata": {},
   "outputs": [],
   "source": []
  },
  {
   "cell_type": "markdown",
   "metadata": {},
   "source": [
    "3) Посмотрите кол-во ошибок модели на test выборке с помощью метрики MSE. (также можно импортировать из sklearn)."
   ]
  },
  {
   "cell_type": "code",
   "execution_count": null,
   "metadata": {},
   "outputs": [],
   "source": []
  },
  {
   "cell_type": "markdown",
   "metadata": {},
   "source": [
    "4) Почему такая большая ошибка? (Просто подумайте, можно еще нарисовать гистограмму Y) "
   ]
  },
  {
   "cell_type": "code",
   "execution_count": null,
   "metadata": {},
   "outputs": [],
   "source": []
  },
  {
   "cell_type": "markdown",
   "metadata": {},
   "source": [
    "5) Конечно же, смотрим на наши веса."
   ]
  },
  {
   "cell_type": "code",
   "execution_count": null,
   "metadata": {},
   "outputs": [],
   "source": []
  },
  {
   "cell_type": "markdown",
   "metadata": {},
   "source": [
    "6) Теперь давайте определим какой из параметров влияет сильнее всего на просмотры."
   ]
  },
  {
   "cell_type": "code",
   "execution_count": null,
   "metadata": {},
   "outputs": [],
   "source": []
  }
 ],
 "metadata": {
  "kernelspec": {
   "display_name": "Python 3",
   "language": "python",
   "name": "python3"
  },
  "language_info": {
   "codemirror_mode": {
    "name": "ipython",
    "version": 3
   },
   "file_extension": ".py",
   "mimetype": "text/x-python",
   "name": "python",
   "nbconvert_exporter": "python",
   "pygments_lexer": "ipython3",
   "version": "3.8.3"
  }
 },
 "nbformat": 4,
 "nbformat_minor": 4
}
