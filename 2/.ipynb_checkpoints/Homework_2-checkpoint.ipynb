{
 "cells": [
  {
   "cell_type": "code",
   "execution_count": 1,
   "metadata": {},
   "outputs": [],
   "source": [
    "import numpy as np\n",
    "from matplotlib import pyplot as plt"
   ]
  },
  {
   "cell_type": "code",
   "execution_count": 2,
   "metadata": {},
   "outputs": [],
   "source": [
    "import numpy as np\n",
    "import matplotlib.pyplot as plt\n",
    "from numpy import linalg\n",
    "from scipy.stats import norm\n",
    "import seaborn as sns\n",
    "\n",
    "sns.set_style(\"dark\")"
   ]
  },
  {
   "cell_type": "code",
   "execution_count": 3,
   "metadata": {},
   "outputs": [],
   "source": [
    "def drawData(X,Y):\n",
    "    plt.plot(X,Y,'o')\n",
    "    plt.title(\"data points\")\n",
    "    plt.xlabel('x',color='#1C2833')\n",
    "    plt.ylabel('y',color='#1C2833')\n",
    "    plt.show()\n",
    "\n",
    "\n",
    "def drawPolynom(X,Y,w, X_m=[], Y_m=[]):\n",
    "    predicted = np.dot(X,w)\n",
    "    plt.plot(X[:,0],Y,'o')\n",
    "    plt.plot(X[:,0], predicted, 'o',linewidth=1)\n",
    "    plt.plot(X_m, Y_m, '--')\n",
    "    plt.title('fitted line')\n",
    "    plt.xlabel('x', color='#1C2833')\n",
    "    plt.ylabel('y', color='#1C2833')\n",
    "    plt.show()\n",
    "\n",
    "\n",
    "def addNoise(Y):\n",
    "    Y += norm.rvs(size=Y.shape[0])\n",
    "    return Y\n",
    "\n",
    "\n",
    "def generatePointsOnLine(shuffle=True, n=100):\n",
    "    X = np.linspace(-3, 3, n)\n",
    "    if shuffle:\n",
    "        np.random.shuffle(X)\n",
    "    Y = 2*X\n",
    "    return X,Y\n",
    "\n",
    "\n",
    "def generateDataset():\n",
    "    X,Y = generatePointsOnLine()\n",
    "    Y = addNoise(Y)\n",
    "    drawData(X,Y)\n",
    "    return X,Y"
   ]
  },
  {
   "cell_type": "code",
   "execution_count": 4,
   "metadata": {
    "scrolled": true
   },
   "outputs": [
    {
     "data": {
      "image/png": "[encoded data removed]",
      "text/plain": [
       "<Figure size 432x288 with 1 Axes>"
      ]
     },
     "metadata": {},
     "output_type": "display_data"
    }
   ],
   "source": [
    "X_gen, Y = generateDataset()"
   ]
  },
  {
   "cell_type": "code",
   "execution_count": 5,
   "metadata": {
    "scrolled": true
   },
   "outputs": [
    {
     "data": {
      "text/plain": [
       "array([-0.6969697 , -3.        , -1.84848485, -0.15151515,  2.15151515,\n",
       "        2.63636364,  1.60606061,  2.93939394,  1.36363636,  0.15151515,\n",
       "        0.93939394,  0.87878788,  1.66666667, -2.15151515, -1.60606061,\n",
       "        0.27272727,  1.84848485,  0.09090909, -1.        , -1.96969697,\n",
       "        0.63636364, -2.87878788,  0.6969697 , -2.51515152,  1.42424242,\n",
       "        0.21212121,  2.21212121, -0.51515152,  2.51515152,  2.27272727,\n",
       "        3.        , -0.21212121,  2.81818182, -0.27272727,  0.33333333,\n",
       "       -0.63636364, -2.57575758,  1.18181818, -2.27272727,  2.57575758,\n",
       "       -2.75757576, -1.66666667, -2.81818182,  1.90909091,  2.39393939,\n",
       "        2.33333333,  2.09090909, -2.6969697 , -2.21212121, -0.03030303,\n",
       "        0.75757576, -1.54545455,  0.81818182,  0.57575758,  0.03030303,\n",
       "       -0.75757576, -0.09090909,  2.75757576, -0.93939394, -2.63636364,\n",
       "        1.24242424,  1.72727273, -1.24242424, -1.06060606, -2.45454545,\n",
       "        0.45454545,  0.39393939, -0.33333333, -1.90909091,  2.87878788,\n",
       "        1.        ,  1.06060606,  1.78787879,  1.54545455,  2.6969697 ,\n",
       "       -0.57575758, -0.45454545, -1.12121212, -2.33333333, -0.87878788,\n",
       "        0.51515152,  2.45454545, -2.39393939, -1.78787879, -2.03030303,\n",
       "        2.03030303,  1.48484848, -1.72727273, -1.18181818, -2.09090909,\n",
       "        1.96969697,  1.12121212, -0.81818182,  1.3030303 , -1.42424242,\n",
       "       -2.93939394, -1.36363636, -1.48484848, -0.39393939, -1.3030303 ])"
      ]
     },
     "execution_count": 5,
     "metadata": {},
     "output_type": "execute_result"
    }
   ],
   "source": [
    "X_gen # выборка x (признаки)"
   ]
  },
  {
   "cell_type": "code",
   "execution_count": 6,
   "metadata": {
    "scrolled": true
   },
   "outputs": [
    {
     "data": {
      "text/plain": [
       "array([ 1.07418282, -7.00389354, -3.51233868, -1.35296485,  3.14626312,\n",
       "        5.86345387,  3.12666674,  5.30313091,  1.33534663, -0.31285514,\n",
       "        1.44293442,  1.91298513,  2.13238471, -6.30690742, -4.36238885,\n",
       "        2.15105562,  4.20757444,  0.39858379, -0.88392506, -4.96330701,\n",
       "        2.04592823, -6.83903233,  1.73324957, -4.94213629,  2.10753014,\n",
       "        0.69373669,  4.30592823, -0.35471497,  4.48501295,  4.56329409,\n",
       "        5.39452649, -0.45069094,  5.74078018, -1.01014531, -0.55336267,\n",
       "       -0.25586609, -4.71023574,  2.8339947 , -4.30416254,  3.886505  ,\n",
       "       -6.09570549, -2.13647268, -6.21831901,  3.96485489,  4.63808758,\n",
       "        4.66203475,  3.51282376, -6.24552067, -3.58152163, -0.85161978,\n",
       "        2.45340435, -3.29325268,  1.5475788 ,  3.19126316, -0.12203899,\n",
       "       -0.54820471,  0.88121491,  4.96111914, -0.90557498, -5.88565267,\n",
       "        2.48274895,  3.68791163, -4.13432199, -0.75656772, -3.19584977,\n",
       "       -0.04833409, -0.29232723, -0.92444671, -3.1506338 ,  5.97377155,\n",
       "        4.64252997,  1.4175428 ,  3.75807813,  2.90737263,  4.68456467,\n",
       "       -1.50072255, -0.85179616, -2.17517623, -4.78077706, -3.36952311,\n",
       "        3.83862077,  4.72817713, -5.24861476, -5.03028977, -3.7253725 ,\n",
       "        2.68213915,  3.61422593, -3.00621232, -2.67687422, -3.16194284,\n",
       "        3.39401831,  1.67436815, -2.30707549,  5.18032732, -3.68159835,\n",
       "       -5.57686867, -3.08498262, -2.47917854, -0.26103672, -1.98954291])"
      ]
     },
     "execution_count": 6,
     "metadata": {},
     "output_type": "execute_result"
    }
   ],
   "source": [
    "Y # выборка y (ответы)"
   ]
  },
  {
   "cell_type": "code",
   "execution_count": 7,
   "metadata": {},
   "outputs": [
    {
     "data": {
      "text/plain": [
       "(100,)"
      ]
     },
     "execution_count": 7,
     "metadata": {},
     "output_type": "execute_result"
    }
   ],
   "source": [
    "X_gen.shape"
   ]
  },
  {
   "cell_type": "code",
   "execution_count": 8,
   "metadata": {
    "scrolled": true
   },
   "outputs": [
    {
     "data": {
      "text/plain": [
       "(100,)"
      ]
     },
     "execution_count": 8,
     "metadata": {},
     "output_type": "execute_result"
    }
   ],
   "source": [
    "Y.shape"
   ]
  },
  {
   "cell_type": "code",
   "execution_count": 9,
   "metadata": {},
   "outputs": [],
   "source": [
    "# Данная строчка убирает проблемы с размерностью, если использовать библиотеку sklearn\n",
    "use_sk=False\n",
    "# if use_sk:\n",
    "#     X_gen = X_gen.reshape(-1, 1)"
   ]
  },
  {
   "cell_type": "markdown",
   "metadata": {},
   "source": [
    "Задание № 1. С помощью библиотеки sklearn нарисуйте линию. Используйте модуль Linear Regression.  "
   ]
  },
  {
   "cell_type": "markdown",
   "metadata": {},
   "source": [
    "1) from sklearn.linear_model import LinearRegression  \n",
    "2) Создайте модель  \n",
    "3) Обучите модель  \n",
    "4) Предскажите моделью данные, подав на вход X_gen  \n",
    "5) Попробуйте нарисовать получившуюся линию"
   ]
  },
  {
   "attachments": {
    "image.png": {
     "image/png": "[encoded data removed]"
    }
   },
   "cell_type": "markdown",
   "metadata": {},
   "source": [
    "!(Задание со звездочкой № 2)! Обучите модель с помощью библиотеки NumPy (не использовав sklearn). Найдите веса по этой формуле, а затем умножение матриц X * w даст вам предсказание модели, попробуйте нарисовать эту линию![image.png](attachment:image.png)(Закоментируйте строчку X_gen.reshape, чтобы избежать проблем с размерностями, а также погуглите про linalg.inv (псевдоинверс в матрице)) "
   ]
  },
  {
   "cell_type": "code",
   "execution_count": 10,
   "metadata": {},
   "outputs": [],
   "source": [
    "Xmin=X_gen.min()\n",
    "Xmax=X_gen.max()\n",
    "X=np.linspace(Xmin-1e-3*Xmin,Xmax+1e-3*Xmin, 100)\n",
    "del Xmin\n",
    "del Xmax"
   ]
  },
  {
   "cell_type": "code",
   "execution_count": 11,
   "metadata": {},
   "outputs": [
    {
     "data": {
      "text/plain": [
       "[<matplotlib.lines.Line2D at 0x21e6cb442e0>]"
      ]
     },
     "execution_count": 11,
     "metadata": {},
     "output_type": "execute_result"
    },
    {
     "data": {
      "image/png": "[encoded data removed]",
      "text/plain": [
       "<Figure size 432x288 with 1 Axes>"
      ]
     },
     "metadata": {},
     "output_type": "display_data"
    }
   ],
   "source": [
    "X_=np.array([X_gen])\n",
    "Y_=np.array([Y])\n",
    "Xt=X_.transpose()\n",
    "W=np.matmul(np.matmul(np.linalg.pinv(np.matmul(Xt,X_)),Xt),Y_)\n",
    "plt.scatter(X_gen,Y,s=1)\n",
    "plt.plot(X,np.matmul(X,W),color='red')"
   ]
  },
  {
   "cell_type": "code",
   "execution_count": 12,
   "metadata": {},
   "outputs": [
    {
     "data": {
      "text/plain": [
       "[<matplotlib.lines.Line2D at 0x21e6d0aa880>]"
      ]
     },
     "execution_count": 12,
     "metadata": {},
     "output_type": "execute_result"
    },
    {
     "data": {
      "image/png": "[encoded data removed]",
      "text/plain": [
       "<Figure size 432x288 with 1 Axes>"
      ]
     },
     "metadata": {},
     "output_type": "display_data"
    }
   ],
   "source": [
    "X_ = X_gen.reshape(-1, 1)\n",
    "from sklearn.linear_model import LinearRegression\n",
    "#help (LinearRegression)\n",
    "_X=X.reshape(-1,1)\n",
    "model=LinearRegression().fit(X_,Y)\n",
    "plt.scatter(X_,Y,s=1)\n",
    "plt.plot(_X,model.predict(_X), color='red')"
   ]
  }
 ],
 "metadata": {
  "kernelspec": {
   "display_name": "Python 3 (ipykernel)",
   "language": "python",
   "name": "python3"
  },
  "language_info": {
   "codemirror_mode": {
    "name": "ipython",
    "version": 3
   },
   "file_extension": ".py",
   "mimetype": "text/x-python",
   "name": "python",
   "nbconvert_exporter": "python",
   "pygments_lexer": "ipython3",
   "version": "3.9.7"
  }
 },
 "nbformat": 4,
 "nbformat_minor": 4
}
