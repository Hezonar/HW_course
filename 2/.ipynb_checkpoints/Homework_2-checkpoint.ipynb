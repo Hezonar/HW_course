{
 "cells": [
  {
   "cell_type": "code",
   "execution_count": 1,
   "metadata": {},
   "outputs": [],
   "source": [
    "import numpy as np\n",
    "from matplotlib import pyplot as plt"
   ]
  },
  {
   "cell_type": "code",
   "execution_count": 2,
   "metadata": {},
   "outputs": [],
   "source": [
    "import numpy as np\n",
    "import matplotlib.pyplot as plt\n",
    "from numpy import linalg\n",
    "from scipy.stats import norm\n",
    "import seaborn as sns\n",
    "\n",
    "sns.set_style(\"dark\")"
   ]
  },
  {
   "cell_type": "code",
   "execution_count": 3,
   "metadata": {},
   "outputs": [],
   "source": [
    "def drawData(X,Y):\n",
    "    plt.plot(X,Y,'o')\n",
    "    plt.title(\"data points\")\n",
    "    plt.xlabel('x',color='#1C2833')\n",
    "    plt.ylabel('y',color='#1C2833')\n",
    "    plt.show()\n",
    "\n",
    "\n",
    "def drawPolynom(X,Y,w, X_m=[], Y_m=[]):\n",
    "    predicted = np.dot(X,w)\n",
    "    plt.plot(X[:,0],Y,'o')\n",
    "    plt.plot(X[:,0], predicted, 'o',linewidth=1)\n",
    "    plt.plot(X_m, Y_m, '--')\n",
    "    plt.title('fitted line')\n",
    "    plt.xlabel('x', color='#1C2833')\n",
    "    plt.ylabel('y', color='#1C2833')\n",
    "    plt.show()\n",
    "\n",
    "\n",
    "def addNoise(Y):\n",
    "    Y += norm.rvs(size=Y.shape[0])\n",
    "    return Y\n",
    "\n",
    "\n",
    "def generatePointsOnLine(shuffle=True, n=100):\n",
    "    X = np.linspace(-3, 3, n)\n",
    "    if shuffle:\n",
    "        np.random.shuffle(X)\n",
    "    Y = 2*X\n",
    "    return X,Y\n",
    "\n",
    "\n",
    "def generateDataset():\n",
    "    X,Y = generatePointsOnLine()\n",
    "    Y = addNoise(Y)\n",
    "    drawData(X,Y)\n",
    "    return X,Y"
   ]
  },
  {
   "cell_type": "code",
   "execution_count": 4,
   "metadata": {
    "scrolled": true
   },
   "outputs": [
    {
     "data": {
      "image/png": "[encoded data removed]",
      "text/plain": [
       "<Figure size 432x288 with 1 Axes>"
      ]
     },
     "metadata": {},
     "output_type": "display_data"
    }
   ],
   "source": [
    "X_gen, Y = generateDataset()"
   ]
  },
  {
   "cell_type": "code",
   "execution_count": 5,
   "metadata": {
    "scrolled": true
   },
   "outputs": [
    {
     "data": {
      "text/plain": [
       "array([-1.84848485,  1.18181818, -2.39393939, -1.90909091,  2.39393939,\n",
       "        2.57575758, -1.78787879, -2.21212121,  2.93939394,  1.90909091,\n",
       "        3.        ,  0.15151515,  1.3030303 , -0.21212121,  1.36363636,\n",
       "        0.33333333,  2.09090909,  1.96969697, -2.75757576, -2.93939394,\n",
       "       -0.87878788,  1.48484848, -2.63636364,  1.        ,  2.27272727,\n",
       "       -0.51515152,  1.78787879,  2.21212121, -0.33333333, -2.33333333,\n",
       "       -1.42424242,  1.60606061, -1.24242424,  2.15151515, -1.66666667,\n",
       "        2.45454545, -1.48484848, -2.57575758, -0.15151515, -2.15151515,\n",
       "        1.42424242, -1.        , -0.6969697 ,  0.93939394,  0.75757576,\n",
       "        1.72727273,  2.81818182,  0.63636364, -2.87878788, -1.18181818,\n",
       "       -0.57575758, -1.3030303 ,  0.81818182, -1.96969697,  1.66666667,\n",
       "       -0.81818182, -2.09090909,  1.54545455, -3.        , -0.27272727,\n",
       "        2.63636364, -1.72727273,  0.21212121,  0.6969697 , -2.81818182,\n",
       "       -0.45454545,  0.03030303,  0.51515152, -1.54545455,  2.6969697 ,\n",
       "        0.39393939, -0.75757576, -2.45454545,  1.84848485,  1.06060606,\n",
       "       -0.09090909,  2.33333333, -0.63636364, -1.12121212,  2.03030303,\n",
       "       -2.6969697 ,  1.12121212,  1.24242424,  2.75757576, -1.60606061,\n",
       "        0.87878788, -2.51515152, -1.36363636, -0.93939394,  0.09090909,\n",
       "       -2.27272727, -2.03030303,  2.51515152,  2.87878788,  0.27272727,\n",
       "       -0.39393939, -0.03030303,  0.45454545,  0.57575758, -1.06060606])"
      ]
     },
     "execution_count": 5,
     "metadata": {},
     "output_type": "execute_result"
    }
   ],
   "source": [
    "X_gen # выборка x (признаки)"
   ]
  },
  {
   "cell_type": "code",
   "execution_count": 6,
   "metadata": {
    "scrolled": true
   },
   "outputs": [
    {
     "data": {
      "text/plain": [
       "array([-4.03684718,  2.50375288, -6.54592748, -5.74619854,  4.06172805,\n",
       "        5.11252073, -3.49021897, -4.50152451,  6.24399887,  3.0118432 ,\n",
       "        5.33391737, -0.18279979,  2.71697264,  0.02296358,  4.96513741,\n",
       "        0.30320566,  4.49794046,  2.89010788, -5.90840222, -5.61996182,\n",
       "       -1.11118473,  3.86417782, -5.21214956,  1.4358598 ,  5.66917026,\n",
       "        0.843498  ,  4.2346274 ,  4.5727393 ,  1.19689122, -3.80860978,\n",
       "       -1.4525793 ,  2.30310732, -3.02435542,  4.16381631, -3.0886388 ,\n",
       "        5.55371932, -3.41549441, -5.88019604, -0.47381483, -4.49601251,\n",
       "        4.26622105, -1.68306566, -2.42495488, -0.19757885,  0.88810659,\n",
       "        4.11840965,  3.38470576,  1.7346013 , -6.46438558, -2.58198324,\n",
       "       -0.55502734, -1.9775548 ,  1.72219172, -4.86605065,  2.26654575,\n",
       "       -1.87888739, -4.98708192,  4.64902122, -6.60633113, -0.77925344,\n",
       "        5.43597668, -2.70779623,  1.13728042,  0.67389669, -5.79362099,\n",
       "       -1.85901261,  0.49213874,  0.55407357, -3.83179759,  4.34459593,\n",
       "       -0.32619976, -1.65773713, -4.62081268,  3.51201846,  2.16905082,\n",
       "       -3.14371073,  2.20425972, -1.58198124, -0.75194274,  3.93309964,\n",
       "       -5.30555138,  1.65642234,  3.02547982,  5.49013744, -3.41644149,\n",
       "        2.79808177, -3.44868441, -1.52104705, -2.32426023, -0.52594029,\n",
       "       -5.15485256, -3.97801926,  5.27776817,  6.94568542, -0.53046412,\n",
       "       -0.34861304,  0.34594186, -0.42660034,  3.90546664, -3.20522066])"
      ]
     },
     "execution_count": 6,
     "metadata": {},
     "output_type": "execute_result"
    }
   ],
   "source": [
    "Y # выборка y (ответы)"
   ]
  },
  {
   "cell_type": "code",
   "execution_count": 7,
   "metadata": {},
   "outputs": [
    {
     "data": {
      "text/plain": [
       "(100,)"
      ]
     },
     "execution_count": 7,
     "metadata": {},
     "output_type": "execute_result"
    }
   ],
   "source": [
    "X_gen.shape"
   ]
  },
  {
   "cell_type": "code",
   "execution_count": 8,
   "metadata": {
    "scrolled": true
   },
   "outputs": [
    {
     "data": {
      "text/plain": [
       "(100,)"
      ]
     },
     "execution_count": 8,
     "metadata": {},
     "output_type": "execute_result"
    }
   ],
   "source": [
    "Y.shape"
   ]
  },
  {
   "cell_type": "code",
   "execution_count": 9,
   "metadata": {},
   "outputs": [],
   "source": [
    "# Данная строчка убирает проблемы с размерностью, если использовать библиотеку sklearn\n",
    "use_sk=False\n",
    "# if use_sk:\n",
    "#     X_gen = X_gen.reshape(-1, 1)"
   ]
  },
  {
   "cell_type": "markdown",
   "metadata": {},
   "source": [
    "Задание № 1. С помощью библиотеки sklearn нарисуйте линию. Используйте модуль Linear Regression.  "
   ]
  },
  {
   "cell_type": "markdown",
   "metadata": {},
   "source": [
    "1) from sklearn.linear_model import LinearRegression  \n",
    "2) Создайте модель  \n",
    "3) Обучите модель  \n",
    "4) Предскажите моделью данные, подав на вход X_gen  \n",
    "5) Попробуйте нарисовать получившуюся линию"
   ]
  },
  {
   "attachments": {
    "image.png": {
     "image/png": "[encoded data removed]"
    }
   },
   "cell_type": "markdown",
   "metadata": {},
   "source": [
    "!(Задание со звездочкой № 2)! Обучите модель с помощью библиотеки NumPy (не использовав sklearn). Найдите веса по этой формуле, а затем умножение матриц X * w даст вам предсказание модели, попробуйте нарисовать эту линию![image.png](attachment:image.png)(Закоментируйте строчку X_gen.reshape, чтобы избежать проблем с размерностями, а также погуглите про linalg.inv (псевдоинверс в матрице)) "
   ]
  },
  {
   "cell_type": "code",
   "execution_count": 10,
   "metadata": {},
   "outputs": [],
   "source": [
    "Xmin=X_gen.min()\n",
    "Xmax=X_gen.max()\n",
    "X=np.linspace(Xmin-1e-3*Xmin,Xmax+1e-3*Xmin, 100)\n",
    "del Xmin\n",
    "del Xmax"
   ]
  },
  {
   "cell_type": "markdown",
   "metadata": {},
   "source": [
    "$1\\times 100 * 100\\times 1 = 1\\times 1$\n",
    "<br>\n",
    "$(1\\times1)^+=1\\times1$\n",
    "<br>\n",
    "$1\\times1*1\\times100=1\\times100$\n",
    "<br>\n",
    "$1\\times100*100\\times1=1\\times1$\n",
    "<br>\n",
    "$n\\times1*1\\times1=n\\times1$"
   ]
  },
  {
   "cell_type": "code",
   "execution_count": 11,
   "metadata": {},
   "outputs": [
    {
     "name": "stdout",
     "output_type": "stream",
     "text": [
      "Wall time: 22.6 ms\n"
     ]
    },
    {
     "data": {
      "text/plain": [
       "[<matplotlib.lines.Line2D at 0x21f6fd356d0>]"
      ]
     },
     "execution_count": 11,
     "metadata": {},
     "output_type": "execute_result"
    },
    {
     "data": {
      "image/png": "[encoded data removed]",
      "text/plain": [
       "<Figure size 432x288 with 1 Axes>"
      ]
     },
     "metadata": {},
     "output_type": "display_data"
    }
   ],
   "source": [
    "%%time\n",
    "X_=np.array([X_gen]).transpose()\n",
    "Y_=np.array([Y]).transpose()\n",
    "Xt=X_.transpose()\n",
    "W=np.matmul(np.matmul(np.linalg.pinv(np.matmul(Xt,X_)),Xt),Y)\n",
    "plt.scatter(X_gen,Y,s=1)\n",
    "plt.plot(X,np.matmul(np.array([X]).transpose(),W),color='red')"
   ]
  },
  {
   "cell_type": "code",
   "execution_count": 13,
   "metadata": {},
   "outputs": [],
   "source": [
    "from sklearn.linear_model import LinearRegression"
   ]
  },
  {
   "cell_type": "code",
   "execution_count": 14,
   "metadata": {},
   "outputs": [
    {
     "name": "stdout",
     "output_type": "stream",
     "text": [
      "Wall time: 24.5 ms\n"
     ]
    },
    {
     "data": {
      "text/plain": [
       "[<matplotlib.lines.Line2D at 0x21f70301700>]"
      ]
     },
     "execution_count": 14,
     "metadata": {},
     "output_type": "execute_result"
    },
    {
     "data": {
      "image/png": "[encoded data removed]",
      "text/plain": [
       "<Figure size 432x288 with 1 Axes>"
      ]
     },
     "metadata": {},
     "output_type": "display_data"
    }
   ],
   "source": [
    "%%time\n",
    "X_ = X_gen.reshape(-1, 1)\n",
    "_X=X.reshape(-1,1)\n",
    "model=LinearRegression().fit(X_,Y)\n",
    "plt.scatter(X_,Y,s=1)\n",
    "plt.plot(_X,model.predict(_X), color='red')"
   ]
  },
  {
   "cell_type": "code",
   "execution_count": null,
   "metadata": {},
   "outputs": [],
   "source": []
  }
 ],
 "metadata": {
  "kernelspec": {
   "display_name": "Python 3 (ipykernel)",
   "language": "python",
   "name": "python3"
  },
  "language_info": {
   "codemirror_mode": {
    "name": "ipython",
    "version": 3
   },
   "file_extension": ".py",
   "mimetype": "text/x-python",
   "name": "python",
   "nbconvert_exporter": "python",
   "pygments_lexer": "ipython3",
   "version": "3.9.7"
  }
 },
 "nbformat": 4,
 "nbformat_minor": 4
}
