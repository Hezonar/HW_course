{
 "cells": [
  {
   "cell_type": "code",
   "execution_count": 1,
   "metadata": {},
   "outputs": [],
   "source": [
    "import numpy as np\n",
    "from matplotlib import pyplot as plt"
   ]
  },
  {
   "cell_type": "code",
   "execution_count": 2,
   "metadata": {},
   "outputs": [],
   "source": [
    "import numpy as np\n",
    "import matplotlib.pyplot as plt\n",
    "from numpy import linalg\n",
    "from scipy.stats import norm\n",
    "import seaborn as sns\n",
    "\n",
    "sns.set_style(\"dark\")"
   ]
  },
  {
   "cell_type": "code",
   "execution_count": 3,
   "metadata": {},
   "outputs": [],
   "source": [
    "def drawData(X,Y):\n",
    "    plt.plot(X,Y,'o')\n",
    "    plt.title(\"data points\")\n",
    "    plt.xlabel('x',color='#1C2833')\n",
    "    plt.ylabel('y',color='#1C2833')\n",
    "    plt.show()\n",
    "\n",
    "\n",
    "def drawPolynom(X,Y,w, X_m=[], Y_m=[]):\n",
    "    predicted = np.dot(X,w)\n",
    "    plt.plot(X[:,0],Y,'o')\n",
    "    plt.plot(X[:,0], predicted, 'o',linewidth=1)\n",
    "    plt.plot(X_m, Y_m, '--')\n",
    "    plt.title('fitted line')\n",
    "    plt.xlabel('x', color='#1C2833')\n",
    "    plt.ylabel('y', color='#1C2833')\n",
    "    plt.show()\n",
    "\n",
    "\n",
    "def addNoise(Y):\n",
    "    Y += norm.rvs(size=Y.shape[0])\n",
    "    return Y\n",
    "\n",
    "\n",
    "def generatePointsOnLine(shuffle=True, n=100):\n",
    "    X = np.linspace(-3, 3, n)\n",
    "    if shuffle:\n",
    "        np.random.shuffle(X)\n",
    "    Y = 2*X\n",
    "    return X,Y\n",
    "\n",
    "\n",
    "def generateDataset():\n",
    "    X,Y = generatePointsOnLine()\n",
    "    Y = addNoise(Y)\n",
    "    drawData(X,Y)\n",
    "    return X,Y"
   ]
  },
  {
   "cell_type": "code",
   "execution_count": 4,
   "metadata": {
    "scrolled": true
   },
   "outputs": [
    {
     "data": {
      "image/png": "[encoded data removed]",
      "text/plain": [
       "<Figure size 432x288 with 1 Axes>"
      ]
     },
     "metadata": {},
     "output_type": "display_data"
    }
   ],
   "source": [
    "X_gen, Y = generateDataset()"
   ]
  },
  {
   "cell_type": "code",
   "execution_count": 5,
   "metadata": {
    "scrolled": true
   },
   "outputs": [
    {
     "data": {
      "text/plain": [
       "array([ 3.        ,  1.90909091, -2.15151515,  2.87878788,  0.81818182,\n",
       "       -1.84848485, -1.24242424, -1.12121212, -0.33333333, -0.63636364,\n",
       "       -2.27272727,  1.18181818, -2.21212121,  2.03030303, -1.3030303 ,\n",
       "        0.63636364, -2.6969697 ,  2.21212121, -0.75757576, -1.36363636,\n",
       "       -0.45454545,  0.87878788,  2.81818182,  2.09090909,  1.3030303 ,\n",
       "       -0.03030303,  1.36363636, -1.        , -2.51515152,  2.51515152,\n",
       "       -2.57575758,  1.72727273, -1.42424242, -0.87878788, -2.81818182,\n",
       "        1.84848485,  0.03030303, -1.66666667,  2.33333333,  1.60606061,\n",
       "       -1.06060606, -2.03030303,  1.78787879, -0.6969697 , -2.63636364,\n",
       "       -2.75757576,  0.09090909, -2.39393939,  2.63636364, -0.21212121,\n",
       "        0.27272727,  2.75757576, -1.96969697,  2.39393939, -2.45454545,\n",
       "        1.06060606, -2.87878788, -3.        ,  0.51515152, -1.78787879,\n",
       "        2.45454545,  1.66666667,  0.33333333, -1.90909091,  0.21212121,\n",
       "       -1.54545455,  2.15151515, -2.93939394, -2.33333333, -0.81818182,\n",
       "        2.27272727, -1.48484848, -2.09090909,  0.45454545,  1.24242424,\n",
       "       -0.15151515, -0.39393939, -0.09090909,  0.57575758, -0.27272727,\n",
       "       -1.60606061, -0.51515152,  2.93939394,  1.96969697,  1.        ,\n",
       "       -1.18181818,  0.93939394, -0.93939394,  2.57575758,  1.54545455,\n",
       "        0.15151515,  2.6969697 ,  0.39393939, -0.57575758,  0.6969697 ,\n",
       "        1.42424242,  1.48484848, -1.72727273,  0.75757576,  1.12121212])"
      ]
     },
     "execution_count": 5,
     "metadata": {},
     "output_type": "execute_result"
    }
   ],
   "source": [
    "X_gen # выборка x (признаки)"
   ]
  },
  {
   "cell_type": "code",
   "execution_count": 6,
   "metadata": {
    "scrolled": true
   },
   "outputs": [
    {
     "data": {
      "text/plain": [
       "array([ 5.22219083,  4.73218601, -4.70573779,  6.61615242, -0.37751309,\n",
       "       -5.3629586 , -1.86755869, -2.84568859, -0.18444868, -2.2252992 ,\n",
       "       -4.05494986,  3.43903974, -4.21543878,  4.8787571 , -1.4592262 ,\n",
       "        2.49432751, -5.3063569 ,  3.42069354, -1.2862644 , -2.94785048,\n",
       "       -0.49201274,  2.85320307,  5.45054005,  4.13829113,  1.90814515,\n",
       "       -1.44794743,  3.04868683, -1.15280273, -6.1483232 ,  4.92451061,\n",
       "       -4.88313355,  2.97667328, -3.71833988, -1.36816973, -4.78502991,\n",
       "        4.76702612, -2.26230115, -5.23244476,  5.5371264 ,  4.43924076,\n",
       "       -0.83913976, -3.87907041,  3.71205783, -0.79433961, -6.2205202 ,\n",
       "       -6.28147016,  2.36909895, -5.33432511,  6.64743146, -0.55616427,\n",
       "        1.18045083,  5.0022801 , -5.46292831,  4.43613476, -4.41865183,\n",
       "        1.09627104, -8.76084076, -5.57966635,  0.16634728, -3.61514979,\n",
       "        3.7647933 ,  4.09830644,  0.99521856, -2.57558823,  1.7923964 ,\n",
       "       -5.17254905,  4.68035117, -5.27453291, -3.4996235 , -2.17486302,\n",
       "        2.22514826, -3.54310796, -4.55855096,  1.18532743,  3.74320853,\n",
       "       -0.56110054, -0.05367432,  1.32538623,  1.0738222 ,  1.0851464 ,\n",
       "       -4.37385609, -0.19728456,  7.00074964,  3.15603391,  1.71136994,\n",
       "       -0.22133017,  1.1924223 , -2.5159662 ,  4.37549678,  2.9456677 ,\n",
       "       -0.71877191,  3.45986034, -0.53045608,  0.55781077,  1.96228825,\n",
       "        2.23820702,  3.00697906, -4.16012088,  0.63422193,  3.59509006])"
      ]
     },
     "execution_count": 6,
     "metadata": {},
     "output_type": "execute_result"
    }
   ],
   "source": [
    "Y # выборка y (ответы)"
   ]
  },
  {
   "cell_type": "code",
   "execution_count": 7,
   "metadata": {},
   "outputs": [
    {
     "data": {
      "text/plain": [
       "(100,)"
      ]
     },
     "execution_count": 7,
     "metadata": {},
     "output_type": "execute_result"
    }
   ],
   "source": [
    "X_gen.shape"
   ]
  },
  {
   "cell_type": "code",
   "execution_count": 8,
   "metadata": {
    "scrolled": true
   },
   "outputs": [
    {
     "data": {
      "text/plain": [
       "(100,)"
      ]
     },
     "execution_count": 8,
     "metadata": {},
     "output_type": "execute_result"
    }
   ],
   "source": [
    "Y.shape"
   ]
  },
  {
   "cell_type": "code",
   "execution_count": 9,
   "metadata": {},
   "outputs": [],
   "source": [
    "# Данная строчка убирает проблемы с размерностью, если использовать библиотеку sklearn\n",
    "use_sk=False\n",
    "# if use_sk:\n",
    "#     X_gen = X_gen.reshape(-1, 1)"
   ]
  },
  {
   "cell_type": "markdown",
   "metadata": {},
   "source": [
    "Задание № 1. С помощью библиотеки sklearn нарисуйте линию. Используйте модуль Linear Regression.  "
   ]
  },
  {
   "cell_type": "markdown",
   "metadata": {},
   "source": [
    "1) from sklearn.linear_model import LinearRegression  \n",
    "2) Создайте модель  \n",
    "3) Обучите модель  \n",
    "4) Предскажите моделью данные, подав на вход X_gen  \n",
    "5) Попробуйте нарисовать получившуюся линию"
   ]
  },
  {
   "attachments": {
    "image.png": {
     "image/png": "[encoded data removed]"
    }
   },
   "cell_type": "markdown",
   "metadata": {},
   "source": [
    "!(Задание со звездочкой № 2)! Обучите модель с помощью библиотеки NumPy (не использовав sklearn). Найдите веса по этой формуле, а затем умножение матриц X * w даст вам предсказание модели, попробуйте нарисовать эту линию![image.png](attachment:image.png)(Закоментируйте строчку X_gen.reshape, чтобы избежать проблем с размерностями, а также погуглите про linalg.inv (псевдоинверс в матрице)) "
   ]
  },
  {
   "cell_type": "code",
   "execution_count": 10,
   "metadata": {},
   "outputs": [],
   "source": [
    "Xmin=X_gen.min()\n",
    "Xmax=X_gen.max()\n",
    "X=np.linspace(Xmin-1e-3*Xmin,Xmax+1e-3*Xmin, 100)\n",
    "del Xmin\n",
    "del Xmax"
   ]
  },
  {
   "cell_type": "code",
   "execution_count": 11,
   "metadata": {},
   "outputs": [],
   "source": [
    "X_=np.array([X_gen]).transpose()\n",
    "Y_=np.array([Y]).transpose()\n",
    "Xt=X_.transpose()"
   ]
  },
  {
   "cell_type": "markdown",
   "metadata": {},
   "source": [
    "$1\\times 100 * 100\\times 1 = 1\\times 1$\n",
    "<br>\n",
    "$(1\\times1)^+=1\\times1$\n",
    "<br>\n",
    "$1\\times1*1\\times100=1\\times100$\n",
    "<br>\n",
    "$1\\times100*100\\times1=1\\times1$\n",
    "<br>\n",
    "$n\\times1*1\\times1=n\\times1$"
   ]
  },
  {
   "cell_type": "code",
   "execution_count": 12,
   "metadata": {},
   "outputs": [
    {
     "data": {
      "text/plain": [
       "[<matplotlib.lines.Line2D at 0x1bfa608a370>]"
      ]
     },
     "execution_count": 12,
     "metadata": {},
     "output_type": "execute_result"
    },
    {
     "data": {
      "image/png": "[encoded data removed]",
      "text/plain": [
       "<Figure size 432x288 with 1 Axes>"
      ]
     },
     "metadata": {},
     "output_type": "display_data"
    }
   ],
   "source": [
    "\n",
    "W=np.matmul(np.matmul(np.linalg.pinv(np.matmul(Xt,X_)),Xt),Y)\n",
    "plt.scatter(X_gen,Y,s=1)\n",
    "plt.plot(X,np.matmul(np.array([X]).transpose(),W),color='red')"
   ]
  },
  {
   "cell_type": "code",
   "execution_count": 13,
   "metadata": {},
   "outputs": [
    {
     "data": {
      "text/plain": [
       "[<matplotlib.lines.Line2D at 0x1bfa65ef730>]"
      ]
     },
     "execution_count": 13,
     "metadata": {},
     "output_type": "execute_result"
    },
    {
     "data": {
      "image/png": "[encoded data removed]",
      "text/plain": [
       "<Figure size 432x288 with 1 Axes>"
      ]
     },
     "metadata": {},
     "output_type": "display_data"
    }
   ],
   "source": [
    "X_ = X_gen.reshape(-1, 1)\n",
    "from sklearn.linear_model import LinearRegression\n",
    "#help (LinearRegression)\n",
    "_X=X.reshape(-1,1)\n",
    "model=LinearRegression().fit(X_,Y)\n",
    "plt.scatter(X_,Y,s=1)\n",
    "plt.plot(_X,model.predict(_X), color='red')"
   ]
  }
 ],
 "metadata": {
  "kernelspec": {
   "display_name": "Python 3 (ipykernel)",
   "language": "python",
   "name": "python3"
  },
  "language_info": {
   "codemirror_mode": {
    "name": "ipython",
    "version": 3
   },
   "file_extension": ".py",
   "mimetype": "text/x-python",
   "name": "python",
   "nbconvert_exporter": "python",
   "pygments_lexer": "ipython3",
   "version": "3.9.7"
  }
 },
 "nbformat": 4,
 "nbformat_minor": 4
}
