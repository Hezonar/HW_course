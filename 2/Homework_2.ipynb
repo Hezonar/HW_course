{
 "cells": [
  {
   "cell_type": "code",
   "execution_count": 74,
   "metadata": {},
   "outputs": [],
   "source": [
    "import numpy as np\n",
    "from matplotlib import pyplot as plt"
   ]
  },
  {
   "cell_type": "code",
   "execution_count": 75,
   "metadata": {},
   "outputs": [],
   "source": [
    "import numpy as np\n",
    "import matplotlib.pyplot as plt\n",
    "from numpy import linalg\n",
    "from scipy.stats import norm\n",
    "import seaborn as sns\n",
    "\n",
    "sns.set_style(\"dark\")"
   ]
  },
  {
   "cell_type": "code",
   "execution_count": 76,
   "metadata": {},
   "outputs": [],
   "source": [
    "def drawData(X,Y):\n",
    "    plt.plot(X,Y,'o')\n",
    "    plt.title(\"data points\")\n",
    "    plt.xlabel('x',color='#1C2833')\n",
    "    plt.ylabel('y',color='#1C2833')\n",
    "    plt.show()\n",
    "\n",
    "\n",
    "def drawPolynom(X,Y,w, X_m=[], Y_m=[]):\n",
    "    predicted = np.dot(X,w)\n",
    "    plt.plot(X[:,0],Y,'o')\n",
    "    plt.plot(X[:,0], predicted, 'o',linewidth=1)\n",
    "    plt.plot(X_m, Y_m, '--')\n",
    "    plt.title('fitted line')\n",
    "    plt.xlabel('x', color='#1C2833')\n",
    "    plt.ylabel('y', color='#1C2833')\n",
    "    plt.show()\n",
    "\n",
    "\n",
    "def addNoise(Y):\n",
    "    Y += norm.rvs(size=Y.shape[0])\n",
    "    return Y\n",
    "\n",
    "\n",
    "def generatePointsOnLine(shuffle=True, n=100):\n",
    "    X = np.linspace(-3, 3, n)\n",
    "    if shuffle:\n",
    "        np.random.shuffle(X)\n",
    "    Y = 2*X\n",
    "    return X,Y\n",
    "\n",
    "\n",
    "def generateDataset():\n",
    "    X,Y = generatePointsOnLine()\n",
    "    Y = addNoise(Y)\n",
    "    drawData(X,Y)\n",
    "    return X,Y"
   ]
  },
  {
   "cell_type": "code",
   "execution_count": 77,
   "metadata": {
    "scrolled": true
   },
   "outputs": [
    {
     "data": {
      "image/png": "[encoded data removed]",
      "text/plain": [
       "<Figure size 432x288 with 1 Axes>"
      ]
     },
     "metadata": {},
     "output_type": "display_data"
    }
   ],
   "source": [
    "X_gen, Y = generateDataset()"
   ]
  },
  {
   "cell_type": "code",
   "execution_count": 78,
   "metadata": {
    "scrolled": true
   },
   "outputs": [
    {
     "data": {
      "text/plain": [
       "array([ 2.39393939,  2.6969697 ,  1.3030303 ,  2.45454545, -1.42424242,\n",
       "       -0.09090909,  0.39393939,  2.03030303, -1.3030303 , -1.78787879,\n",
       "       -2.03030303,  1.60606061,  0.21212121, -1.12121212,  3.        ,\n",
       "        0.15151515,  2.63636364,  2.15151515,  0.03030303,  2.75757576,\n",
       "        1.42424242,  0.93939394,  2.93939394, -2.09090909, -2.39393939,\n",
       "        1.12121212, -2.57575758, -1.36363636, -2.93939394, -2.27272727,\n",
       "       -2.87878788,  0.63636364,  0.51515152, -2.6969697 ,  1.72727273,\n",
       "       -0.21212121, -2.81818182,  0.09090909,  0.57575758, -2.15151515,\n",
       "        1.18181818, -1.84848485,  0.6969697 , -0.63636364, -0.87878788,\n",
       "       -0.51515152,  1.48484848, -1.72727273,  0.87878788,  1.84848485,\n",
       "       -0.75757576, -0.6969697 , -0.93939394,  1.96969697, -0.33333333,\n",
       "       -0.57575758, -2.75757576,  0.33333333, -1.54545455, -0.15151515,\n",
       "       -2.45454545, -1.        , -1.18181818,  1.66666667,  2.21212121,\n",
       "        2.33333333,  0.45454545, -1.60606061,  0.81818182, -2.33333333,\n",
       "       -0.45454545, -0.27272727, -0.03030303,  1.54545455, -1.90909091,\n",
       "        1.06060606,  2.09090909, -1.48484848,  2.51515152, -0.81818182,\n",
       "       -0.39393939,  2.87878788,  1.78787879,  1.        , -2.63636364,\n",
       "        1.36363636, -1.66666667, -1.06060606, -2.21212121, -1.24242424,\n",
       "        1.90909091,  2.81818182, -3.        ,  2.57575758,  2.27272727,\n",
       "        0.27272727, -2.51515152,  1.24242424,  0.75757576, -1.96969697])"
      ]
     },
     "execution_count": 78,
     "metadata": {},
     "output_type": "execute_result"
    }
   ],
   "source": [
    "X_gen # выборка x (признаки)"
   ]
  },
  {
   "cell_type": "code",
   "execution_count": 79,
   "metadata": {
    "scrolled": true
   },
   "outputs": [
    {
     "data": {
      "text/plain": [
       "array([ 4.47599473,  4.86733115,  2.57526513,  3.94086737, -2.70006221,\n",
       "        0.50711269,  0.45280829,  4.41762248, -4.00758243, -5.02403733,\n",
       "       -2.92473966,  3.59913236,  1.47200386,  0.1129185 ,  5.33567834,\n",
       "       -1.11414979,  4.41388385,  3.36551455, -0.18674875,  5.22697795,\n",
       "        3.17573849,  2.18737217,  7.26882382, -5.20142907, -2.60797779,\n",
       "        1.77923524, -5.24889839, -4.48615963, -6.08327765, -7.30913192,\n",
       "       -5.38584176,  0.80554278,  0.59528147, -4.71807426,  2.51354183,\n",
       "        0.14729802, -2.74346117, -0.83289125,  1.16012686, -2.95740887,\n",
       "        1.96395058, -2.24797854, -0.35725781,  0.19677529, -3.61515879,\n",
       "       -1.63866773,  2.54061742, -3.86843748,  2.77306708,  3.55261297,\n",
       "       -1.38087414, -1.07155829, -1.16062388,  6.44675069, -0.64212803,\n",
       "        0.93321866, -5.29801028,  0.69283911, -3.99330513,  0.18802657,\n",
       "       -5.6864176 , -1.65526474, -3.0642923 ,  4.54332095,  3.37598845,\n",
       "        5.18573745,  0.85142891, -4.48148373,  3.62019928, -3.05674835,\n",
       "        0.18953248,  0.86456413, -1.38031442,  4.65448394, -3.09734057,\n",
       "        0.97175512,  2.44096083, -2.54784257,  5.86959162, -2.44404266,\n",
       "       -3.08028203,  4.11430686,  4.74812972,  2.04070394, -5.32403173,\n",
       "        3.48665832, -3.30111358, -3.3840254 , -3.56498789, -4.47823875,\n",
       "        5.00034687,  6.24045778, -5.29426845,  4.94151418,  4.89826012,\n",
       "        0.36229274, -4.19573006, -0.37988746,  1.97000703, -4.14079498])"
      ]
     },
     "execution_count": 79,
     "metadata": {},
     "output_type": "execute_result"
    }
   ],
   "source": [
    "Y # выборка y (ответы)"
   ]
  },
  {
   "cell_type": "code",
   "execution_count": 80,
   "metadata": {},
   "outputs": [
    {
     "data": {
      "text/plain": [
       "(100,)"
      ]
     },
     "execution_count": 80,
     "metadata": {},
     "output_type": "execute_result"
    }
   ],
   "source": [
    "X_gen.shape"
   ]
  },
  {
   "cell_type": "code",
   "execution_count": 81,
   "metadata": {
    "scrolled": true
   },
   "outputs": [
    {
     "data": {
      "text/plain": [
       "(100,)"
      ]
     },
     "execution_count": 81,
     "metadata": {},
     "output_type": "execute_result"
    }
   ],
   "source": [
    "Y.shape"
   ]
  },
  {
   "cell_type": "code",
   "execution_count": 82,
   "metadata": {},
   "outputs": [],
   "source": [
    "# Данная строчка убирает проблемы с размерностью, если использовать библиотеку sklearn\n",
    "X_gen = X_gen.reshape(-1, 1)"
   ]
  },
  {
   "cell_type": "markdown",
   "metadata": {},
   "source": [
    "Задание № 1. С помощью библиотеки sklearn нарисуйте линию. Используйте модуль Linear Regression.  "
   ]
  },
  {
   "cell_type": "markdown",
   "metadata": {},
   "source": [
    "1) from sklearn.linear_model import LinearRegression  \n",
    "2) Создайте модель  \n",
    "3) Обучите модель  \n",
    "4) Предскажите моделью данные, подав на вход X_gen  \n",
    "5) Попробуйте нарисовать получившуюся линию"
   ]
  },
  {
   "attachments": {
    "image.png": {
     "image/png": "[encoded data removed]"
    }
   },
   "cell_type": "markdown",
   "metadata": {},
   "source": [
    "!(Задание со звездочкой № 2)! Обучите модель с помощью библиотеки NumPy (не использовав sklearn). Найдите веса по этой формуле, а затем умножение матриц X * w даст вам предсказание модели, попробуйте нарисовать эту линию![image.png](attachment:image.png)(Закоментируйте строчку X_gen.reshape, чтобы избежать проблем с размерностями, а также погуглите про linalg.inv (псевдоинверс в матрице)) "
   ]
  }
 ],
 "metadata": {
  "kernelspec": {
   "display_name": "Python 3",
   "language": "python",
   "name": "python3"
  },
  "language_info": {
   "codemirror_mode": {
    "name": "ipython",
    "version": 3
   },
   "file_extension": ".py",
   "mimetype": "text/x-python",
   "name": "python",
   "nbconvert_exporter": "python",
   "pygments_lexer": "ipython3",
   "version": "3.8.3"
  }
 },
 "nbformat": 4,
 "nbformat_minor": 4
}
