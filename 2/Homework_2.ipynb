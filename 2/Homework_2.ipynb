{
 "cells": [
  {
   "cell_type": "code",
   "execution_count": 1,
   "metadata": {},
   "outputs": [],
   "source": [
    "import numpy as np\n",
    "from matplotlib import pyplot as plt"
   ]
  },
  {
   "cell_type": "code",
   "execution_count": 2,
   "metadata": {},
   "outputs": [],
   "source": [
    "import numpy as np\n",
    "import matplotlib.pyplot as plt\n",
    "from numpy import linalg\n",
    "from scipy.stats import norm\n",
    "import seaborn as sns\n",
    "\n",
    "sns.set_style(\"dark\")"
   ]
  },
  {
   "cell_type": "code",
   "execution_count": 3,
   "metadata": {},
   "outputs": [],
   "source": [
    "def drawData(X,Y):\n",
    "    plt.plot(X,Y,'o')\n",
    "    plt.title(\"data points\")\n",
    "    plt.xlabel('x',color='#1C2833')\n",
    "    plt.ylabel('y',color='#1C2833')\n",
    "    plt.show()\n",
    "\n",
    "\n",
    "def drawPolynom(X,Y,w, X_m=[], Y_m=[]):\n",
    "    predicted = np.dot(X,w)\n",
    "    plt.plot(X[:,0],Y,'o')\n",
    "    plt.plot(X[:,0], predicted, 'o',linewidth=1)\n",
    "    plt.plot(X_m, Y_m, '--')\n",
    "    plt.title('fitted line')\n",
    "    plt.xlabel('x', color='#1C2833')\n",
    "    plt.ylabel('y', color='#1C2833')\n",
    "    plt.show()\n",
    "\n",
    "\n",
    "def addNoise(Y):\n",
    "    Y += norm.rvs(size=Y.shape[0])\n",
    "    return Y\n",
    "\n",
    "\n",
    "def generatePointsOnLine(shuffle=True, n=100):\n",
    "    X = np.linspace(-3, 3, n)\n",
    "    if shuffle:\n",
    "        np.random.shuffle(X)\n",
    "    Y = 2*X\n",
    "    return X,Y\n",
    "\n",
    "\n",
    "def generateDataset():\n",
    "    X,Y = generatePointsOnLine()\n",
    "    Y = addNoise(Y)\n",
    "    drawData(X,Y)\n",
    "    return X,Y"
   ]
  },
  {
   "cell_type": "code",
   "execution_count": 4,
   "metadata": {
    "scrolled": true
   },
   "outputs": [
    {
     "data": {
      "image/png": "[encoded data removed]",
      "text/plain": [
       "<Figure size 432x288 with 1 Axes>"
      ]
     },
     "metadata": {},
     "output_type": "display_data"
    }
   ],
   "source": [
    "X_gen, Y = generateDataset()"
   ]
  },
  {
   "cell_type": "code",
   "execution_count": 5,
   "metadata": {
    "scrolled": true
   },
   "outputs": [
    {
     "data": {
      "text/plain": [
       "array([ 0.33333333, -2.51515152, -2.15151515,  0.57575758,  2.87878788,\n",
       "        2.57575758, -2.6969697 ,  0.63636364,  1.96969697,  1.48484848,\n",
       "        1.36363636,  0.51515152, -1.66666667, -0.33333333,  0.45454545,\n",
       "       -2.09090909, -0.39393939, -1.72727273, -2.75757576, -0.15151515,\n",
       "        1.90909091,  1.06060606, -2.63636364,  0.87878788, -1.36363636,\n",
       "        2.93939394,  1.66666667,  2.33333333, -0.57575758, -2.87878788,\n",
       "        0.6969697 ,  2.45454545, -0.81818182, -0.21212121,  1.24242424,\n",
       "        2.81818182, -1.48484848, -1.3030303 ,  1.54545455, -0.03030303,\n",
       "       -0.6969697 , -2.39393939, -0.63636364, -0.09090909,  2.6969697 ,\n",
       "       -1.06060606, -2.33333333,  2.21212121,  0.81818182,  1.60606061,\n",
       "       -1.24242424, -0.75757576,  0.39393939,  0.21212121,  2.39393939,\n",
       "       -2.93939394,  2.03030303, -1.90909091,  0.75757576,  1.84848485,\n",
       "        1.42424242, -1.42424242,  1.        , -1.12121212,  1.78787879,\n",
       "        2.63636364,  1.18181818,  0.27272727,  2.75757576, -2.45454545,\n",
       "       -1.60606061,  0.03030303, -0.87878788,  3.        , -2.21212121,\n",
       "       -1.        ,  0.09090909, -0.51515152,  1.12121212, -2.81818182,\n",
       "       -1.18181818, -0.27272727, -0.45454545,  2.51515152, -2.27272727,\n",
       "       -1.78787879, -0.93939394,  2.15151515, -1.54545455,  2.27272727,\n",
       "        0.93939394, -2.57575758, -2.03030303, -3.        ,  2.09090909,\n",
       "        1.3030303 , -1.96969697,  0.15151515,  1.72727273, -1.84848485])"
      ]
     },
     "execution_count": 5,
     "metadata": {},
     "output_type": "execute_result"
    }
   ],
   "source": [
    "X_gen # выборка x (признаки)"
   ]
  },
  {
   "cell_type": "code",
   "execution_count": 6,
   "metadata": {
    "scrolled": true
   },
   "outputs": [
    {
     "data": {
      "text/plain": [
       "array([ 2.68366975, -5.10209475, -4.13526494,  2.00722722,  6.01764959,\n",
       "        4.76862916, -4.71804622,  2.40906572,  3.39340181,  1.99813921,\n",
       "        3.90536612,  2.14053057, -2.06737562, -0.35122794,  0.98722332,\n",
       "       -3.9629052 , -1.16223601, -4.07237103, -4.73315019, -1.14741036,\n",
       "        2.07763048,  3.87929154, -3.85300067,  0.74891749, -1.81873093,\n",
       "        5.82416142,  2.96943055,  3.84788951,  0.61698268, -6.6265105 ,\n",
       "        0.937793  ,  2.61437103, -2.24617839, -0.57730066,  2.81961225,\n",
       "        4.81477895, -2.99221798, -2.05679321,  4.30754612, -0.13569898,\n",
       "       -2.0127159 , -4.59531664, -1.2387776 , -0.25920451,  5.1039212 ,\n",
       "       -1.83946223, -4.76399529,  3.18828873,  1.475316  ,  1.89400676,\n",
       "       -3.75740945, -2.57978353, -0.23369829, -0.46163416,  3.61193263,\n",
       "       -4.27403635,  3.40824346, -2.7103175 , -0.16935721,  5.17120933,\n",
       "        4.08021539, -1.99066582,  1.05280544, -3.56473772,  2.99509622,\n",
       "        3.59274212,  3.07190265,  0.5746261 ,  6.70754463, -3.98729312,\n",
       "       -2.01100812,  1.05237943, -1.16673051,  6.23876448, -4.01501333,\n",
       "       -1.14153899,  0.27644187,  0.67282553,  3.45180585, -4.84915926,\n",
       "       -1.88978139, -0.95403585, -1.73048897,  5.06306436, -3.19774698,\n",
       "       -3.57947359, -1.44540444,  4.31310173, -3.39694987,  6.20347243,\n",
       "        1.36809406, -3.61595619, -4.04598955, -5.70003792,  3.76151421,\n",
       "        1.41765151, -3.32719127,  0.45503015,  4.41160307, -4.60081261])"
      ]
     },
     "execution_count": 6,
     "metadata": {},
     "output_type": "execute_result"
    }
   ],
   "source": [
    "Y # выборка y (ответы)"
   ]
  },
  {
   "cell_type": "code",
   "execution_count": 7,
   "metadata": {},
   "outputs": [
    {
     "data": {
      "text/plain": [
       "(100,)"
      ]
     },
     "execution_count": 7,
     "metadata": {},
     "output_type": "execute_result"
    }
   ],
   "source": [
    "X_gen.shape"
   ]
  },
  {
   "cell_type": "code",
   "execution_count": 8,
   "metadata": {
    "scrolled": true
   },
   "outputs": [
    {
     "data": {
      "text/plain": [
       "(100,)"
      ]
     },
     "execution_count": 8,
     "metadata": {},
     "output_type": "execute_result"
    }
   ],
   "source": [
    "Y.shape"
   ]
  },
  {
   "cell_type": "code",
   "execution_count": 9,
   "metadata": {},
   "outputs": [],
   "source": [
    "# Данная строчка убирает проблемы с размерностью, если использовать библиотеку sklearn\n",
    "use_sk=False\n",
    "# if use_sk:\n",
    "#     X_gen = X_gen.reshape(-1, 1)"
   ]
  },
  {
   "cell_type": "markdown",
   "metadata": {},
   "source": [
    "Задание № 1. С помощью библиотеки sklearn нарисуйте линию. Используйте модуль Linear Regression.  "
   ]
  },
  {
   "cell_type": "markdown",
   "metadata": {},
   "source": [
    "1) from sklearn.linear_model import LinearRegression  \n",
    "2) Создайте модель  \n",
    "3) Обучите модель  \n",
    "4) Предскажите моделью данные, подав на вход X_gen  \n",
    "5) Попробуйте нарисовать получившуюся линию"
   ]
  },
  {
   "attachments": {
    "image.png": {
     "image/png": "[encoded data removed]"
    }
   },
   "cell_type": "markdown",
   "metadata": {},
   "source": [
    "!(Задание со звездочкой № 2)! Обучите модель с помощью библиотеки NumPy (не использовав sklearn). Найдите веса по этой формуле, а затем умножение матриц X * w даст вам предсказание модели, попробуйте нарисовать эту линию![image.png](attachment:image.png)(Закоментируйте строчку X_gen.reshape, чтобы избежать проблем с размерностями, а также погуглите про linalg.inv (псевдоинверс в матрице)) "
   ]
  },
  {
   "cell_type": "code",
   "execution_count": 10,
   "metadata": {},
   "outputs": [],
   "source": [
    "Xmin=X_gen.min()\n",
    "Xmax=X_gen.max()\n",
    "X=np.linspace(Xmin-1e-3*Xmin,Xmax+1e-3*Xmin, 100)\n",
    "del Xmin\n",
    "del Xmax"
   ]
  },
  {
   "cell_type": "markdown",
   "metadata": {},
   "source": [
    "$1\\times 100 * 100\\times 1 = 1\\times 1$\n",
    "<br>\n",
    "$(1\\times1)^+=1\\times1$\n",
    "<br>\n",
    "$1\\times1*1\\times100=1\\times100$\n",
    "<br>\n",
    "$1\\times100*100\\times1=1\\times1$\n",
    "<br>\n",
    "$n\\times1*1\\times1=n\\times1$"
   ]
  },
  {
   "cell_type": "code",
   "execution_count": 11,
   "metadata": {},
   "outputs": [
    {
     "name": "stdout",
     "output_type": "stream",
     "text": [
      "Wall time: 15.6 ms\n"
     ]
    },
    {
     "data": {
      "text/plain": [
       "[<matplotlib.lines.Line2D at 0x24b30de58b0>]"
      ]
     },
     "execution_count": 11,
     "metadata": {},
     "output_type": "execute_result"
    },
    {
     "data": {
      "image/png": "[encoded data removed]",
      "text/plain": [
       "<Figure size 432x288 with 1 Axes>"
      ]
     },
     "metadata": {},
     "output_type": "display_data"
    }
   ],
   "source": [
    "%%time\n",
    "X_=np.array([X_gen]).transpose()\n",
    "Y_=np.array([Y]).transpose()\n",
    "Xt=X_.transpose()\n",
    "W=np.matmul(np.matmul(np.linalg.pinv(np.matmul(Xt,X_)),Xt),Y)\n",
    "plt.scatter(X_gen,Y,s=1)\n",
    "plt.plot(X,np.matmul(np.array([X]).transpose(),W),color='red')"
   ]
  },
  {
   "cell_type": "code",
   "execution_count": 12,
   "metadata": {},
   "outputs": [],
   "source": [
    "from sklearn.linear_model import LinearRegression"
   ]
  },
  {
   "cell_type": "code",
   "execution_count": 13,
   "metadata": {},
   "outputs": [
    {
     "name": "stdout",
     "output_type": "stream",
     "text": [
      "Wall time: 19 ms\n"
     ]
    },
    {
     "data": {
      "text/plain": [
       "[<matplotlib.lines.Line2D at 0x24b31349ee0>]"
      ]
     },
     "execution_count": 13,
     "metadata": {},
     "output_type": "execute_result"
    },
    {
     "data": {
      "image/png": "[encoded data removed]",
      "text/plain": [
       "<Figure size 432x288 with 1 Axes>"
      ]
     },
     "metadata": {},
     "output_type": "display_data"
    }
   ],
   "source": [
    "%%time\n",
    "X_ = X_gen.reshape(-1, 1)\n",
    "_X=X.reshape(-1,1)\n",
    "model=LinearRegression().fit(X_,Y)\n",
    "plt.scatter(X_,Y,s=1)\n",
    "plt.plot(_X,model.predict(_X), color='red')"
   ]
  },
  {
   "cell_type": "code",
   "execution_count": null,
   "metadata": {},
   "outputs": [],
   "source": []
  }
 ],
 "metadata": {
  "kernelspec": {
   "display_name": "Python 3 (ipykernel)",
   "language": "python",
   "name": "python3"
  },
  "language_info": {
   "codemirror_mode": {
    "name": "ipython",
    "version": 3
   },
   "file_extension": ".py",
   "mimetype": "text/x-python",
   "name": "python",
   "nbconvert_exporter": "python",
   "pygments_lexer": "ipython3",
   "version": "3.9.7"
  }
 },
 "nbformat": 4,
 "nbformat_minor": 4
}
